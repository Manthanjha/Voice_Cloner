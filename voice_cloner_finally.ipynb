{
 "cells": [
  {
   "cell_type": "code",
   "execution_count": 1,
   "id": "ba2a3829",
   "metadata": {},
   "outputs": [
    {
     "name": "stdout",
     "output_type": "stream",
     "text": [
      "Git LFS initialized.\n"
     ]
    },
    {
     "name": "stderr",
     "output_type": "stream",
     "text": [
      "fatal: destination path 'Real-Time-Voice-Cloning' already exists and is not an empty directory.\n"
     ]
    }
   ],
   "source": [
    "# !git lfs install\n",
    "# !git clone https://huggingface.co/spaces/keithhon/Real-Time-Voice-Cloning"
   ]
  },
  {
   "cell_type": "code",
   "execution_count": 3,
   "id": "85a6eb44",
   "metadata": {},
   "outputs": [
    {
     "name": "stdout",
     "output_type": "stream",
     "text": [
      "Ignoring webrtcvad: markers 'platform_system != \"Windows\"' don't match your environment\n",
      "Requirement already satisfied: umap-learn in c:\\users\\manth\\anaconda3\\lib\\site-packages (from -r Real-Time-Voice-Cloning/requirements.txt (line 1)) (0.5.3)\n",
      "Requirement already satisfied: visdom in c:\\users\\manth\\anaconda3\\lib\\site-packages (from -r Real-Time-Voice-Cloning/requirements.txt (line 2)) (0.2.4)\n",
      "Collecting librosa==0.10.0\n",
      "  Using cached librosa-0.10.0-py3-none-any.whl (252 kB)\n",
      "Requirement already satisfied: matplotlib>=3.3.0 in c:\\users\\manth\\anaconda3\\lib\\site-packages (from -r Real-Time-Voice-Cloning/requirements.txt (line 4)) (3.7.0)\n",
      "Requirement already satisfied: scipy>=1.0.0 in c:\\users\\manth\\anaconda3\\lib\\site-packages (from -r Real-Time-Voice-Cloning/requirements.txt (line 5)) (1.10.0)\n",
      "Requirement already satisfied: tqdm in c:\\users\\manth\\anaconda3\\lib\\site-packages (from -r Real-Time-Voice-Cloning/requirements.txt (line 6)) (4.64.1)\n",
      "Requirement already satisfied: sounddevice in c:\\users\\manth\\anaconda3\\lib\\site-packages (from -r Real-Time-Voice-Cloning/requirements.txt (line 7)) (0.4.6)\n",
      "Requirement already satisfied: SoundFile in c:\\users\\manth\\anaconda3\\lib\\site-packages (from -r Real-Time-Voice-Cloning/requirements.txt (line 8)) (0.12.1)\n",
      "Requirement already satisfied: Unidecode in c:\\users\\manth\\anaconda3\\lib\\site-packages (from -r Real-Time-Voice-Cloning/requirements.txt (line 9)) (1.2.0)\n",
      "Requirement already satisfied: inflect in c:\\users\\manth\\anaconda3\\lib\\site-packages (from -r Real-Time-Voice-Cloning/requirements.txt (line 10)) (7.0.0)\n",
      "Requirement already satisfied: multiprocess in c:\\users\\manth\\anaconda3\\lib\\site-packages (from -r Real-Time-Voice-Cloning/requirements.txt (line 11)) (0.70.14)\n",
      "Requirement already satisfied: numba in c:\\users\\manth\\anaconda3\\lib\\site-packages (from -r Real-Time-Voice-Cloning/requirements.txt (line 12)) (0.56.4)\n",
      "Requirement already satisfied: torch in c:\\users\\manth\\anaconda3\\lib\\site-packages (from -r Real-Time-Voice-Cloning/requirements.txt (line 14)) (2.0.1)\n",
      "Requirement already satisfied: joblib>=0.14 in c:\\users\\manth\\anaconda3\\lib\\site-packages (from librosa==0.10.0->-r Real-Time-Voice-Cloning/requirements.txt (line 3)) (1.1.1)\n",
      "Requirement already satisfied: pooch>=1.0 in c:\\users\\manth\\anaconda3\\lib\\site-packages (from librosa==0.10.0->-r Real-Time-Voice-Cloning/requirements.txt (line 3)) (1.4.0)\n",
      "Requirement already satisfied: soxr>=0.3.2 in c:\\users\\manth\\anaconda3\\lib\\site-packages (from librosa==0.10.0->-r Real-Time-Voice-Cloning/requirements.txt (line 3)) (0.3.5)\n",
      "Requirement already satisfied: audioread>=2.1.9 in c:\\users\\manth\\anaconda3\\lib\\site-packages (from librosa==0.10.0->-r Real-Time-Voice-Cloning/requirements.txt (line 3)) (3.0.0)\n",
      "Requirement already satisfied: decorator>=4.3.0 in c:\\users\\manth\\anaconda3\\lib\\site-packages (from librosa==0.10.0->-r Real-Time-Voice-Cloning/requirements.txt (line 3)) (5.1.1)\n",
      "Requirement already satisfied: typing-extensions>=4.1.1 in c:\\users\\manth\\anaconda3\\lib\\site-packages (from librosa==0.10.0->-r Real-Time-Voice-Cloning/requirements.txt (line 3)) (4.7.1)\n",
      "Requirement already satisfied: lazy-loader>=0.1 in c:\\users\\manth\\anaconda3\\lib\\site-packages (from librosa==0.10.0->-r Real-Time-Voice-Cloning/requirements.txt (line 3)) (0.3)\n",
      "Requirement already satisfied: numpy>=1.20.3 in c:\\users\\manth\\anaconda3\\lib\\site-packages (from librosa==0.10.0->-r Real-Time-Voice-Cloning/requirements.txt (line 3)) (1.23.5)\n",
      "Requirement already satisfied: msgpack>=1.0 in c:\\users\\manth\\anaconda3\\lib\\site-packages (from librosa==0.10.0->-r Real-Time-Voice-Cloning/requirements.txt (line 3)) (1.0.3)\n",
      "Requirement already satisfied: scikit-learn>=0.20.0 in c:\\users\\manth\\anaconda3\\lib\\site-packages (from librosa==0.10.0->-r Real-Time-Voice-Cloning/requirements.txt (line 3)) (1.2.2)\n",
      "Requirement already satisfied: pynndescent>=0.5 in c:\\users\\manth\\anaconda3\\lib\\site-packages (from umap-learn->-r Real-Time-Voice-Cloning/requirements.txt (line 1)) (0.5.10)\n",
      "Requirement already satisfied: jsonpatch in c:\\users\\manth\\anaconda3\\lib\\site-packages (from visdom->-r Real-Time-Voice-Cloning/requirements.txt (line 2)) (1.32)\n",
      "Requirement already satisfied: six in c:\\users\\manth\\anaconda3\\lib\\site-packages (from visdom->-r Real-Time-Voice-Cloning/requirements.txt (line 2)) (1.16.0)\n",
      "Requirement already satisfied: networkx in c:\\users\\manth\\anaconda3\\lib\\site-packages (from visdom->-r Real-Time-Voice-Cloning/requirements.txt (line 2)) (2.8.4)\n",
      "Requirement already satisfied: websocket-client in c:\\users\\manth\\anaconda3\\lib\\site-packages (from visdom->-r Real-Time-Voice-Cloning/requirements.txt (line 2)) (0.58.0)\n",
      "Requirement already satisfied: requests in c:\\users\\manth\\anaconda3\\lib\\site-packages (from visdom->-r Real-Time-Voice-Cloning/requirements.txt (line 2)) (2.28.1)\n",
      "Requirement already satisfied: tornado in c:\\users\\manth\\anaconda3\\lib\\site-packages (from visdom->-r Real-Time-Voice-Cloning/requirements.txt (line 2)) (6.1)\n",
      "Requirement already satisfied: pillow in c:\\users\\manth\\anaconda3\\lib\\site-packages (from visdom->-r Real-Time-Voice-Cloning/requirements.txt (line 2)) (9.4.0)\n",
      "Requirement already satisfied: kiwisolver>=1.0.1 in c:\\users\\manth\\anaconda3\\lib\\site-packages (from matplotlib>=3.3.0->-r Real-Time-Voice-Cloning/requirements.txt (line 4)) (1.4.4)\n",
      "Requirement already satisfied: cycler>=0.10 in c:\\users\\manth\\anaconda3\\lib\\site-packages (from matplotlib>=3.3.0->-r Real-Time-Voice-Cloning/requirements.txt (line 4)) (0.11.0)\n",
      "Requirement already satisfied: pyparsing>=2.3.1 in c:\\users\\manth\\anaconda3\\lib\\site-packages (from matplotlib>=3.3.0->-r Real-Time-Voice-Cloning/requirements.txt (line 4)) (3.0.9)\n",
      "Requirement already satisfied: fonttools>=4.22.0 in c:\\users\\manth\\anaconda3\\lib\\site-packages (from matplotlib>=3.3.0->-r Real-Time-Voice-Cloning/requirements.txt (line 4)) (4.25.0)\n",
      "Requirement already satisfied: python-dateutil>=2.7 in c:\\users\\manth\\anaconda3\\lib\\site-packages (from matplotlib>=3.3.0->-r Real-Time-Voice-Cloning/requirements.txt (line 4)) (2.8.2)\n",
      "Requirement already satisfied: contourpy>=1.0.1 in c:\\users\\manth\\anaconda3\\lib\\site-packages (from matplotlib>=3.3.0->-r Real-Time-Voice-Cloning/requirements.txt (line 4)) (1.0.5)\n",
      "Requirement already satisfied: packaging>=20.0 in c:\\users\\manth\\anaconda3\\lib\\site-packages (from matplotlib>=3.3.0->-r Real-Time-Voice-Cloning/requirements.txt (line 4)) (22.0)\n",
      "Requirement already satisfied: colorama in c:\\users\\manth\\anaconda3\\lib\\site-packages (from tqdm->-r Real-Time-Voice-Cloning/requirements.txt (line 6)) (0.4.6)\n",
      "Requirement already satisfied: CFFI>=1.0 in c:\\users\\manth\\anaconda3\\lib\\site-packages (from sounddevice->-r Real-Time-Voice-Cloning/requirements.txt (line 7)) (1.15.1)\n",
      "Requirement already satisfied: pydantic>=1.9.1 in c:\\users\\manth\\anaconda3\\lib\\site-packages (from inflect->-r Real-Time-Voice-Cloning/requirements.txt (line 10)) (2.0.3)\n",
      "Requirement already satisfied: dill>=0.3.6 in c:\\users\\manth\\anaconda3\\lib\\site-packages (from multiprocess->-r Real-Time-Voice-Cloning/requirements.txt (line 11)) (0.3.6)\n",
      "Requirement already satisfied: llvmlite<0.40,>=0.39.0dev0 in c:\\users\\manth\\anaconda3\\lib\\site-packages (from numba->-r Real-Time-Voice-Cloning/requirements.txt (line 12)) (0.39.1)\n",
      "Requirement already satisfied: setuptools in c:\\users\\manth\\anaconda3\\lib\\site-packages (from numba->-r Real-Time-Voice-Cloning/requirements.txt (line 12)) (65.6.3)\n",
      "Requirement already satisfied: sympy in c:\\users\\manth\\anaconda3\\lib\\site-packages (from torch->-r Real-Time-Voice-Cloning/requirements.txt (line 14)) (1.11.1)\n",
      "Requirement already satisfied: filelock in c:\\users\\manth\\anaconda3\\lib\\site-packages (from torch->-r Real-Time-Voice-Cloning/requirements.txt (line 14)) (3.9.0)\n",
      "Requirement already satisfied: jinja2 in c:\\users\\manth\\anaconda3\\lib\\site-packages (from torch->-r Real-Time-Voice-Cloning/requirements.txt (line 14)) (3.1.2)\n",
      "Requirement already satisfied: pycparser in c:\\users\\manth\\anaconda3\\lib\\site-packages (from CFFI>=1.0->sounddevice->-r Real-Time-Voice-Cloning/requirements.txt (line 7)) (2.21)\n",
      "Requirement already satisfied: appdirs in c:\\users\\manth\\anaconda3\\lib\\site-packages (from pooch>=1.0->librosa==0.10.0->-r Real-Time-Voice-Cloning/requirements.txt (line 3)) (1.4.4)\n",
      "Requirement already satisfied: pydantic-core==2.3.0 in c:\\users\\manth\\anaconda3\\lib\\site-packages (from pydantic>=1.9.1->inflect->-r Real-Time-Voice-Cloning/requirements.txt (line 10)) (2.3.0)\n",
      "Requirement already satisfied: annotated-types>=0.4.0 in c:\\users\\manth\\anaconda3\\lib\\site-packages (from pydantic>=1.9.1->inflect->-r Real-Time-Voice-Cloning/requirements.txt (line 10)) (0.5.0)\n",
      "Requirement already satisfied: threadpoolctl>=2.0.0 in c:\\users\\manth\\anaconda3\\lib\\site-packages (from scikit-learn>=0.20.0->librosa==0.10.0->-r Real-Time-Voice-Cloning/requirements.txt (line 3)) (2.2.0)\n",
      "Requirement already satisfied: MarkupSafe>=2.0 in c:\\users\\manth\\anaconda3\\lib\\site-packages (from jinja2->torch->-r Real-Time-Voice-Cloning/requirements.txt (line 14)) (2.1.1)\n",
      "Requirement already satisfied: jsonpointer>=1.9 in c:\\users\\manth\\anaconda3\\lib\\site-packages (from jsonpatch->visdom->-r Real-Time-Voice-Cloning/requirements.txt (line 2)) (2.1)\n",
      "Requirement already satisfied: idna<4,>=2.5 in c:\\users\\manth\\anaconda3\\lib\\site-packages (from requests->visdom->-r Real-Time-Voice-Cloning/requirements.txt (line 2)) (3.4)\n",
      "Requirement already satisfied: urllib3<1.27,>=1.21.1 in c:\\users\\manth\\anaconda3\\lib\\site-packages (from requests->visdom->-r Real-Time-Voice-Cloning/requirements.txt (line 2)) (1.26.14)\n",
      "Requirement already satisfied: charset-normalizer<3,>=2 in c:\\users\\manth\\anaconda3\\lib\\site-packages (from requests->visdom->-r Real-Time-Voice-Cloning/requirements.txt (line 2)) (2.0.4)\n",
      "Requirement already satisfied: certifi>=2017.4.17 in c:\\users\\manth\\anaconda3\\lib\\site-packages (from requests->visdom->-r Real-Time-Voice-Cloning/requirements.txt (line 2)) (2022.12.7)\n",
      "Requirement already satisfied: mpmath>=0.19 in c:\\users\\manth\\anaconda3\\lib\\site-packages (from sympy->torch->-r Real-Time-Voice-Cloning/requirements.txt (line 14)) (1.2.1)\n",
      "Installing collected packages: librosa\n",
      "  Attempting uninstall: librosa\n",
      "    Found existing installation: librosa 0.8.0\n",
      "    Uninstalling librosa-0.8.0:\n",
      "      Successfully uninstalled librosa-0.8.0\n",
      "Successfully installed librosa-0.10.0\n"
     ]
    }
   ],
   "source": [
    "# !pip install -r Real-Time-Voice-Cloning/requirements.txt"
   ]
  },
  {
   "cell_type": "code",
   "execution_count": 4,
   "id": "69162b91",
   "metadata": {},
   "outputs": [
    {
     "name": "stdout",
     "output_type": "stream",
     "text": [
      "Requirement already satisfied: webrtcvad in c:\\users\\manth\\anaconda3\\lib\\site-packages (2.0.10)\n"
     ]
    }
   ],
   "source": [
    "# !pip install webrtcvad"
   ]
  },
  {
   "cell_type": "code",
   "execution_count": 1,
   "id": "2568652c",
   "metadata": {},
   "outputs": [
    {
     "name": "stderr",
     "output_type": "stream",
     "text": [
      "C:\\Users\\manth\\anaconda3\\lib\\site-packages\\paramiko\\transport.py:219: CryptographyDeprecationWarning: Blowfish has been deprecated\n",
      "  \"class\": algorithms.Blowfish,\n"
     ]
    }
   ],
   "source": [
    "import sys\n",
    "sys.path.append(\"Real-Time-Voice-Cloning\")\n",
    "from encoder.params_model import model_embedding_size as speaker_embedding_size\n",
    "from utils.argutils import print_args\n",
    "from utils.modelutils import check_model_paths\n",
    "from synthesizer.inference import Synthesizer\n",
    "from encoder import inference as encoder\n",
    "from vocoder import inference as vocoder\n",
    "from pathlib import Path\n",
    "import numpy as np\n",
    "import soundfile as sf\n",
    "import librosa\n",
    "import argparse\n",
    "import torch\n",
    "import sys\n",
    "import os\n",
    "from audioread.exceptions import NoBackendError\n",
    "import pathlib"
   ]
  },
  {
   "cell_type": "code",
   "execution_count": 2,
   "id": "5cf30086",
   "metadata": {},
   "outputs": [
    {
     "name": "stdout",
     "output_type": "stream",
     "text": [
      "Loaded encoder \"encoder.pt\" trained to step 1564501\n",
      "Synthesizer using device: cpu\n",
      "Building Wave-RNN\n",
      "Trainable Parameters: 4.481M\n",
      "Loading model weights at saved_models\\vocoder.pt\n"
     ]
    }
   ],
   "source": [
    "encoder.load_model(pathlib.Path(\"saved_models/encoder.pt\"))\n",
    "synthesizer = Synthesizer(pathlib.Path(\"saved_models/synthesizer.pt\"))\n",
    "vocoder.load_model(pathlib.Path(\"saved_models/vocoder.pt\"))"
   ]
  },
  {
   "cell_type": "code",
   "execution_count": 5,
   "id": "802be578",
   "metadata": {},
   "outputs": [
    {
     "name": "stdout",
     "output_type": "stream",
     "text": [
      "Collecting librosa==0.8.0\n",
      "  Using cached librosa-0.8.0-py3-none-any.whl\n",
      "Requirement already satisfied: numpy>=1.15.0 in c:\\users\\manth\\anaconda3\\lib\\site-packages (from librosa==0.8.0) (1.23.5)\n",
      "Requirement already satisfied: pooch>=1.0 in c:\\users\\manth\\anaconda3\\lib\\site-packages (from librosa==0.8.0) (1.4.0)\n",
      "Requirement already satisfied: numba>=0.43.0 in c:\\users\\manth\\anaconda3\\lib\\site-packages (from librosa==0.8.0) (0.56.4)\n",
      "Requirement already satisfied: scipy>=1.0.0 in c:\\users\\manth\\anaconda3\\lib\\site-packages (from librosa==0.8.0) (1.10.0)\n",
      "Requirement already satisfied: decorator>=3.0.0 in c:\\users\\manth\\anaconda3\\lib\\site-packages (from librosa==0.8.0) (5.1.1)\n",
      "Requirement already satisfied: soundfile>=0.9.0 in c:\\users\\manth\\anaconda3\\lib\\site-packages (from librosa==0.8.0) (0.12.1)\n",
      "Requirement already satisfied: joblib>=0.14 in c:\\users\\manth\\anaconda3\\lib\\site-packages (from librosa==0.8.0) (1.1.1)\n",
      "Requirement already satisfied: resampy>=0.2.2 in c:\\users\\manth\\anaconda3\\lib\\site-packages (from librosa==0.8.0) (0.4.2)\n",
      "Requirement already satisfied: scikit-learn!=0.19.0,>=0.14.0 in c:\\users\\manth\\anaconda3\\lib\\site-packages (from librosa==0.8.0) (1.2.2)\n",
      "Requirement already satisfied: audioread>=2.0.0 in c:\\users\\manth\\anaconda3\\lib\\site-packages (from librosa==0.8.0) (3.0.0)\n",
      "Requirement already satisfied: llvmlite<0.40,>=0.39.0dev0 in c:\\users\\manth\\anaconda3\\lib\\site-packages (from numba>=0.43.0->librosa==0.8.0) (0.39.1)\n",
      "Requirement already satisfied: setuptools in c:\\users\\manth\\anaconda3\\lib\\site-packages (from numba>=0.43.0->librosa==0.8.0) (65.6.3)\n",
      "Requirement already satisfied: requests in c:\\users\\manth\\anaconda3\\lib\\site-packages (from pooch>=1.0->librosa==0.8.0) (2.28.1)\n",
      "Requirement already satisfied: appdirs in c:\\users\\manth\\anaconda3\\lib\\site-packages (from pooch>=1.0->librosa==0.8.0) (1.4.4)\n",
      "Requirement already satisfied: packaging in c:\\users\\manth\\anaconda3\\lib\\site-packages (from pooch>=1.0->librosa==0.8.0) (22.0)\n",
      "Requirement already satisfied: threadpoolctl>=2.0.0 in c:\\users\\manth\\anaconda3\\lib\\site-packages (from scikit-learn!=0.19.0,>=0.14.0->librosa==0.8.0) (2.2.0)\n",
      "Requirement already satisfied: cffi>=1.0 in c:\\users\\manth\\anaconda3\\lib\\site-packages (from soundfile>=0.9.0->librosa==0.8.0) (1.15.1)\n",
      "Requirement already satisfied: pycparser in c:\\users\\manth\\anaconda3\\lib\\site-packages (from cffi>=1.0->soundfile>=0.9.0->librosa==0.8.0) (2.21)\n",
      "Requirement already satisfied: charset-normalizer<3,>=2 in c:\\users\\manth\\anaconda3\\lib\\site-packages (from requests->pooch>=1.0->librosa==0.8.0) (2.0.4)\n",
      "Requirement already satisfied: urllib3<1.27,>=1.21.1 in c:\\users\\manth\\anaconda3\\lib\\site-packages (from requests->pooch>=1.0->librosa==0.8.0) (1.26.14)\n",
      "Requirement already satisfied: certifi>=2017.4.17 in c:\\users\\manth\\anaconda3\\lib\\site-packages (from requests->pooch>=1.0->librosa==0.8.0) (2022.12.7)\n",
      "Requirement already satisfied: idna<4,>=2.5 in c:\\users\\manth\\anaconda3\\lib\\site-packages (from requests->pooch>=1.0->librosa==0.8.0) (3.4)\n",
      "Installing collected packages: librosa\n",
      "  Attempting uninstall: librosa\n",
      "    Found existing installation: librosa 0.10.0\n",
      "    Uninstalling librosa-0.10.0:\n",
      "      Successfully uninstalled librosa-0.10.0\n",
      "Successfully installed librosa-0.8.0\n"
     ]
    }
   ],
   "source": [
    "# !pip install librosa==0.8.0"
   ]
  },
  {
   "cell_type": "code",
   "execution_count": 3,
   "id": "09ba2bb3",
   "metadata": {
    "scrolled": true
   },
   "outputs": [
    {
     "name": "stdout",
     "output_type": "stream",
     "text": [
      "Trainable Parameters: 30.870M\n",
      "Loaded synthesizer \"synthesizer.pt\" trained to step 295000\n",
      "+----------+---+\n",
      "| Tacotron | r |\n",
      "+----------+---+\n",
      "|   295k   | 2 |\n",
      "+----------+---+\n",
      " \n",
      "\n",
      "| Generating 1/1\n",
      "\n",
      "\n",
      "Done.\n",
      "\n",
      "{| ████████████████ 19000/19200 | Batch Size: 2 | Gen Rate: 1.1kHz | }float64\n",
      "\n",
      "Saved output as demo_output_1.wav\n",
      "\n",
      "\n"
     ]
    }
   ],
   "source": [
    "preprocessed_wav = encoder.preprocess_wav(fpath_or_wav=\"output10.wav\")\n",
    "embed = encoder.embed_utterance(preprocessed_wav)\n",
    "texts = [\"Hello\"]\n",
    "embeds = [embed]\n",
    "specs = synthesizer.synthesize_spectrograms(texts, embeds)\n",
    "spec = specs[0]\n",
    "generated_wav = vocoder.infer_waveform(spec)\n",
    "filename = \"demo_output_1.wav\"\n",
    "print(generated_wav.dtype)\n",
    "sf.write(filename, generated_wav.astype(np.float32), synthesizer.sample_rate)\n",
    "print(\"\\nSaved output as %s\\n\\n\" % filename)"
   ]
  },
  {
   "cell_type": "code",
   "execution_count": null,
   "id": "6a5d918b",
   "metadata": {},
   "outputs": [],
   "source": []
  },
  {
   "cell_type": "code",
   "execution_count": null,
   "id": "e80159a8",
   "metadata": {},
   "outputs": [],
   "source": []
  }
 ],
 "metadata": {
  "kernelspec": {
   "display_name": "Python 3 (ipykernel)",
   "language": "python",
   "name": "python3"
  },
  "language_info": {
   "codemirror_mode": {
    "name": "ipython",
    "version": 3
   },
   "file_extension": ".py",
   "mimetype": "text/x-python",
   "name": "python",
   "nbconvert_exporter": "python",
   "pygments_lexer": "ipython3",
   "version": "3.10.9"
  }
 },
 "nbformat": 4,
 "nbformat_minor": 5
}
